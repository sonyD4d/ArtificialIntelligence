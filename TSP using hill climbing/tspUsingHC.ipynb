{
 "cells": [
  {
   "cell_type": "code",
   "execution_count": 1,
   "metadata": {},
   "outputs": [],
   "source": [
    "tsp = [\n",
    "    [0,2,3,3,6],\n",
    "    [2,0,4,5,3],\n",
    "    [3,4,0,7,3],\n",
    "    [3,5,7,0,3],\n",
    "    [6,3,3,3,0]\n",
    "]"
   ]
  },
  {
   "cell_type": "code",
   "execution_count": 2,
   "metadata": {},
   "outputs": [],
   "source": [
    "def pathCost(path):\n",
    "    cost = 0\n",
    "    for i in range(len(path)):\n",
    "        cost += tsp[path[i - 1]][path[i]]\n",
    "    return cost"
   ]
  },
  {
   "cell_type": "code",
   "execution_count": 3,
   "metadata": {},
   "outputs": [],
   "source": [
    "def getNeighbours(route):\n",
    "    neighbours = []\n",
    "    for i in range(len(route)):\n",
    "        for j in range(i + 1, len(route)):\n",
    "            temp = route.copy()\n",
    "            temp[i] = route[j]\n",
    "            temp[j] = route[i]\n",
    "            neighbours.append(temp)\n",
    "    return neighbours"
   ]
  },
  {
   "cell_type": "code",
   "execution_count": 4,
   "metadata": {},
   "outputs": [],
   "source": [
    "def getBestNeighbour(neighbours):\n",
    "    bestNeighbour = neighbours[0]\n",
    "    minCost = pathCost(bestNeighbour)\n",
    "    for neighbour in neighbours:\n",
    "        cost = pathCost(neighbour)\n",
    "        if cost < minCost:\n",
    "            minCost = cost\n",
    "            bestNeighbour = neighbour\n",
    "    return bestNeighbour, minCost"
   ]
  },
  {
   "cell_type": "code",
   "execution_count": 5,
   "metadata": {},
   "outputs": [],
   "source": [
    "import random\n",
    "initial_route = []\n",
    "\n",
    "temp = [i for i in range(len(tsp))]\n",
    "for i in range(len(tsp)):\n",
    "    randomCity = temp[random.randint(0, len(temp)-1)]\n",
    "    initial_route.append(randomCity)\n",
    "    temp.remove(randomCity)"
   ]
  },
  {
   "cell_type": "code",
   "execution_count": 6,
   "metadata": {},
   "outputs": [
    {
     "name": "stdout",
     "output_type": "stream",
     "text": [
      "Initial path : [3, 2, 4, 5, 1] and it's cost: 21\n"
     ]
    }
   ],
   "source": [
    "best_route = initial_route\n",
    "best_cost = pathCost(best_route)\n",
    "print(\"Initial path : {0} and it's cost: {1}\".format([i+1 for i in best_route],best_cost))"
   ]
  },
  {
   "cell_type": "code",
   "execution_count": 7,
   "metadata": {},
   "outputs": [
    {
     "name": "stdout",
     "output_type": "stream",
     "text": [
      "Best local route: [2, 1, 4, 5, 3] and it's cost: 15\n"
     ]
    }
   ],
   "source": [
    "neighbours = getNeighbours(best_route)\n",
    "bestNeighbour, bestNeighbourCost = getBestNeighbour(neighbours)\n",
    "while bestNeighbourCost < best_cost:\n",
    "    best_route = bestNeighbour\n",
    "    best_cost = bestNeighbourCost\n",
    "    neighbours = getNeighbours(best_route)\n",
    "    bestNeighbour, bestNeighbourCost = getBestNeighbour(neighbours)\n",
    "print(\"Best local route: {0} and it's cost: {1}\".format([i+1 for i in best_route], best_cost))"
   ]
  }
 ],
 "metadata": {
  "kernelspec": {
   "display_name": "Python 3",
   "language": "python",
   "name": "python3"
  },
  "language_info": {
   "codemirror_mode": {
    "name": "ipython",
    "version": 3
   },
   "file_extension": ".py",
   "mimetype": "text/x-python",
   "name": "python",
   "nbconvert_exporter": "python",
   "pygments_lexer": "ipython3",
   "version": "3.8.5"
  }
 },
 "nbformat": 4,
 "nbformat_minor": 5
}
