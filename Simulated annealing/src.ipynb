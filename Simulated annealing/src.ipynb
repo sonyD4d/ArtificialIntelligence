{
 "cells": [
  {
   "cell_type": "code",
   "execution_count": 1,
   "metadata": {},
   "outputs": [],
   "source": [
    "tsp = [\n",
    "    [0,2,3,3,6],\n",
    "    [2,0,4,5,3],\n",
    "    [3,4,0,7,3],\n",
    "    [3,5,7,0,3],\n",
    "    [6,3,3,3,0]\n",
    "]"
   ]
  },
  {
   "cell_type": "code",
   "execution_count": 2,
   "metadata": {},
   "outputs": [],
   "source": [
    "def pathCost(path):\n",
    "    cost = 0\n",
    "    for i in range(len(path)):\n",
    "        cost += tsp[path[i - 1]][path[i]]\n",
    "    return cost"
   ]
  },
  {
   "cell_type": "code",
   "execution_count": 3,
   "metadata": {},
   "outputs": [],
   "source": [
    "import random\n",
    "initial_route = []\n",
    "temp = [i for i in range(len(tsp))]\n",
    "for i in range(len(tsp)):\n",
    "    randomCity = temp[random.randint(0, len(temp)-1)]\n",
    "    initial_route.append(randomCity)\n",
    "    temp.remove(randomCity)"
   ]
  },
  {
   "cell_type": "code",
   "execution_count": 4,
   "metadata": {},
   "outputs": [],
   "source": [
    "def swap(route,i,j):\n",
    "    route[i],route[j]=route[j],route[i]\n",
    "    return route"
   ]
  },
  {
   "cell_type": "code",
   "execution_count": 5,
   "metadata": {},
   "outputs": [
    {
     "name": "stdout",
     "output_type": "stream",
     "text": [
      "Initial path : [4, 3, 5, 1, 2] and it's cost: 23\n",
      "Final path : [4, 1, 5, 2, 3] and it's cost: 17\n"
     ]
    }
   ],
   "source": [
    "import math\n",
    "temp = 150\n",
    "cur_route = initial_route\n",
    "cur_cost = pathCost(initial_route)\n",
    "print(\"Initial path : {0} and it's cost: {1}\".format([i+1 for i in cur_route],cur_cost))\n",
    "while(temp>0):\n",
    "    for i in range(10):\n",
    "        r1 = random.randint(0,4)\n",
    "        r2 = random.randint(0,4)\n",
    "        while(r1==r2):\n",
    "            r2 = random.randint(0,4)\n",
    "        next_route = swap(cur_route,r1,r2)\n",
    "        next_cost = pathCost(next_route)\n",
    "        D = next_cost - cur_cost\n",
    "        if( D < 0 ):\n",
    "            cur_cost = next_cost\n",
    "            cur_route = next_route\n",
    "        elif(random.random() > (math.exp((-1*(D/temp))))):\n",
    "            cur_cost = next_cost\n",
    "            cur_route = next_route\n",
    "    temp-=10\n",
    "print(\"Final path : {0} and it's cost: {1}\".format([i+1 for i in cur_route],cur_cost))"
   ]
  }
 ],
 "metadata": {
  "kernelspec": {
   "display_name": "Python 3",
   "language": "python",
   "name": "python3"
  },
  "language_info": {
   "codemirror_mode": {
    "name": "ipython",
    "version": 3
   },
   "file_extension": ".py",
   "mimetype": "text/x-python",
   "name": "python",
   "nbconvert_exporter": "python",
   "pygments_lexer": "ipython3",
   "version": "3.8.5"
  }
 },
 "nbformat": 4,
 "nbformat_minor": 4
}
