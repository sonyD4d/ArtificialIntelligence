{
 "cells": [
  {
   "cell_type": "code",
   "execution_count": 1,
   "metadata": {},
   "outputs": [],
   "source": [
    "graph = {\n",
    "    'A': [('F', 3), ('B', 6)],\n",
    "    'B': [('C', 3),('D',2)],\n",
    "    'C': [('D', 1),('E',5),('B',3)],\n",
    "    'D': [('B',2),('E',8),('C',1)],\n",
    "    'E': [('I',5),('J',5),('D',8),('C',5)],\n",
    "    'F': [('G',1),('H',7)],\n",
    "    'G': [('I',3),('F',1)],\n",
    "    'H': [('I',2),('F',7)],\n",
    "    'I': [('G',3),('H',2),('E',5),('J',3)],\n",
    "    'J': [('E',5),('I',3)]\n",
    "}\n",
    "h_val = {'A':10,'B':8,'C':5,'D':7,'E':3,'F':6,'G':5,'H':3,'I':1,'J':0}"
   ]
  },
  {
   "cell_type": "code",
   "execution_count": 2,
   "metadata": {},
   "outputs": [],
   "source": [
    "def a_star(start, goal):\n",
    "    open_list = set([start])\n",
    "    closed_list = set([])\n",
    "\n",
    "    distance = {}\n",
    "    distance[start] = 0        \n",
    "    parents = {}\n",
    "    parents[start] = start\n",
    "\n",
    "    while len(open_list) > 0:\n",
    "        n = None\n",
    "        for v in open_list:\n",
    "            if n == None or distance[v] + h_val[v] < distance[n] + h_val[n]:\n",
    "                n = v;\n",
    "        if n == None:\n",
    "            print('No Path exists')\n",
    "            return \n",
    "        if n == goal:\n",
    "            path = []\n",
    "            while parents[n] != n:\n",
    "                path.append(n)\n",
    "                n = parents[n]\n",
    "            path.append(start)\n",
    "            path.reverse()\n",
    "            print('Path found: {0} Cost:{1}'.format(path,distance[goal]))\n",
    "            return \n",
    "        for (m, weight) in graph[n]:\n",
    "            if m not in open_list and m not in closed_list:\n",
    "                open_list.add(m)\n",
    "                parents[m] = n\n",
    "                distance[m] = distance[n] + weight\n",
    "            else:\n",
    "                if distance[m] > distance[n] + weight:\n",
    "                    distance[m] = distance[n] + weight\n",
    "                    parents[m] = n\n",
    "                    if m in closed_list:\n",
    "                        closed_list.remove(m)\n",
    "                        open_list.add(m)\n",
    "        open_list.remove(n)\n",
    "        closed_list.add(n)\n",
    "    print('No Path exists')\n",
    "    return "
   ]
  },
  {
   "cell_type": "code",
   "execution_count": 3,
   "metadata": {},
   "outputs": [
    {
     "name": "stdout",
     "output_type": "stream",
     "text": [
      "Path found: ['A', 'F', 'G', 'I', 'J'] Cost:10\n"
     ]
    }
   ],
   "source": [
    "a_star('A', 'J')"
   ]
  },
  {
   "cell_type": "code",
   "execution_count": null,
   "metadata": {},
   "outputs": [],
   "source": []
  }
 ],
 "metadata": {
  "kernelspec": {
   "display_name": "Python 3",
   "language": "python",
   "name": "python3"
  },
  "language_info": {
   "codemirror_mode": {
    "name": "ipython",
    "version": 3
   },
   "file_extension": ".py",
   "mimetype": "text/x-python",
   "name": "python",
   "nbconvert_exporter": "python",
   "pygments_lexer": "ipython3",
   "version": "3.8.5"
  }
 },
 "nbformat": 4,
 "nbformat_minor": 4
}
