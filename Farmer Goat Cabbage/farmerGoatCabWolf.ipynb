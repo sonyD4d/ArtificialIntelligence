{
 "cells": [
  {
   "cell_type": "code",
   "execution_count": 1,
   "metadata": {},
   "outputs": [],
   "source": [
    "FARMER = 0\n",
    "GOAT = 1\n",
    "WOLF = 2\n",
    "CABBAGE = 3\n",
    "\n",
    "START_STATE = \"1111\"\n",
    "FINAL_STATE = \"0000\""
   ]
  },
  {
   "cell_type": "code",
   "execution_count": 2,
   "metadata": {},
   "outputs": [],
   "source": [
    "def validState(state):\n",
    "    if( (state[FARMER]!=state[GOAT] and state[GOAT]==state[WOLF]) or (state[FARMER]!=state[GOAT] and state[GOAT]==state[CABBAGE]) ):\n",
    "        return False\n",
    "    else:\n",
    "        return True"
   ]
  },
  {
   "cell_type": "code",
   "execution_count": 3,
   "metadata": {},
   "outputs": [],
   "source": [
    "def move(obj , state):\n",
    "    if state[obj]=='0':\n",
    "        s='1'\n",
    "    else:\n",
    "        s='0'\n",
    "    return state[:obj]+s+state[obj+1:]"
   ]
  },
  {
   "cell_type": "code",
   "execution_count": 4,
   "metadata": {},
   "outputs": [],
   "source": [
    "def nextStates(state):\n",
    "    possibleValidStates = []\n",
    "    nextState = move(FARMER , state)\n",
    "    if(validState(nextState)):\n",
    "        possibleValidStates.append(nextState)\n",
    "    for i in range(1,4):\n",
    "        if(state[FARMER] == state[i]):\n",
    "            nextState = move(FARMER , state)\n",
    "            nextState = move(i , nextState)\n",
    "            if(validState(nextState)):\n",
    "                possibleValidStates.append(nextState)\n",
    "    return possibleValidStates"
   ]
  },
  {
   "cell_type": "code",
   "execution_count": 5,
   "metadata": {
    "tags": []
   },
   "outputs": [],
   "source": [
    "class stateSpaceGraph:\n",
    "    def __init__(self):\n",
    "        self.nodeDict = dict() \n",
    "        self.treeNodes = set() \n",
    "    \n",
    "    def buildTree(self,state):\n",
    "        if state not in self.treeNodes:\n",
    "            self.treeNodes.add(state)\n",
    "            adjStates=nextStates(state)\n",
    "            for i in adjStates:\n",
    "                s.addEdge(state,i)\n",
    "            for i in adjStates:\n",
    "                self.buildTree(i)\n",
    "    \n",
    "    def addEdge(self,fromNode,toNode):\n",
    "        if fromNode not in self.nodeDict:\n",
    "            self.nodeDict[fromNode]=[]\n",
    "        self.nodeDict[fromNode].append(toNode)\n",
    "    \n",
    "    def __str__(self):\n",
    "        return (str(self.nodeDict))\n",
    "    \n",
    "    def DFS(self):\n",
    "        s=[(START_STATE,[START_STATE])]\n",
    "        visited = set()\n",
    "        while(s):\n",
    "            (vertex,path) = s.pop()\n",
    "            if vertex not in visited:\n",
    "                if vertex == FINAL_STATE:\n",
    "                    return path\n",
    "                visited.add(vertex)\n",
    "                for i in self.nodeDict[vertex]:\n",
    "                    s.append((i,path+[i]))\n",
    "\n",
    "s=stateSpaceGraph()\n",
    "s.buildTree(START_STATE)"
   ]
  },
  {
   "cell_type": "code",
   "execution_count": 6,
   "metadata": {},
   "outputs": [
    {
     "name": "stdout",
     "output_type": "stream",
     "text": [
      "['1111', '0011', '1011', '0010', '1110', '0100', '1100', '0000']\n"
     ]
    }
   ],
   "source": [
    "print(s.DFS())"
   ]
  }
 ],
 "metadata": {
  "kernelspec": {
   "display_name": "Python 3",
   "language": "python",
   "name": "python3"
  },
  "language_info": {
   "codemirror_mode": {
    "name": "ipython",
    "version": 3
   },
   "file_extension": ".py",
   "mimetype": "text/x-python",
   "name": "python",
   "nbconvert_exporter": "python",
   "pygments_lexer": "ipython3",
   "version": "3.8.5"
  }
 },
 "nbformat": 4,
 "nbformat_minor": 2
}
