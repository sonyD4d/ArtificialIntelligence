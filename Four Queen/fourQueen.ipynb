{
 "cells": [
  {
   "cell_type": "code",
   "execution_count": 6,
   "metadata": {},
   "outputs": [],
   "source": [
    "board = [[0,0,0,0],[0,0,0,0],[0,0,0,0],[0,0,0,0]]\n",
    "N = 4"
   ]
  },
  {
   "cell_type": "code",
   "execution_count": 7,
   "metadata": {},
   "outputs": [],
   "source": [
    "def safeState(board,row,col):\n",
    "    for i in range(N):\n",
    "        if (board[row][i]==1 or board[i][col]):\n",
    "            return False\n",
    "    for i in range(N):\n",
    "        for j in range(N):\n",
    "            if( (i+j==row+col) or (i-j==row-col) ):\n",
    "                if board[i][j]==1:\n",
    "                    return False\n",
    "    return True\n",
    "    "
   ]
  },
  {
   "cell_type": "code",
   "execution_count": 8,
   "metadata": {},
   "outputs": [],
   "source": [
    "def solution(board,row):\n",
    "    if(row>=N):\n",
    "        return True \n",
    "    else:\n",
    "        for col in range(N): \n",
    "            if(safeState(board,row,col)): \n",
    "                print(\"placed in {0},{1} //FORWARD EDGE\".format(row+1,col+1))\n",
    "                board[row][col]=1\n",
    "                if(solution(board,row+1)):\n",
    "                    return True\n",
    "                print(\"Failed to place in {0},{1} //BACKTRACK:Level down\".format(row+1,col+1))\n",
    "                board[row][col]=0\n",
    "            else:\n",
    "                print(\"Failed to place in {0},{1} //BACKTRACK: move to adj\".format(row+1,col+1))\n",
    "    return False"
   ]
  },
  {
   "cell_type": "code",
   "execution_count": 9,
   "metadata": {},
   "outputs": [],
   "source": [
    "def displayBoard(): \n",
    "    for i in range(N): \n",
    "        for j in range(N): \n",
    "            print (str(board[i][j]),end=\" \")\n",
    "        print() "
   ]
  },
  {
   "cell_type": "code",
   "execution_count": 10,
   "metadata": {},
   "outputs": [
    {
     "name": "stdout",
     "output_type": "stream",
     "text": [
      "placed in 1,1 //FORWARD EDGE\n",
      "Failed to place in 2,1 //BACKTRACK: move to adj\n",
      "Failed to place in 2,2 //BACKTRACK: move to adj\n",
      "placed in 2,3 //FORWARD EDGE\n",
      "Failed to place in 3,1 //BACKTRACK: move to adj\n",
      "Failed to place in 3,2 //BACKTRACK: move to adj\n",
      "Failed to place in 3,3 //BACKTRACK: move to adj\n",
      "Failed to place in 3,4 //BACKTRACK: move to adj\n",
      "Failed to place in 2,3 //BACKTRACK:Level down\n",
      "placed in 2,4 //FORWARD EDGE\n",
      "Failed to place in 3,1 //BACKTRACK: move to adj\n",
      "placed in 3,2 //FORWARD EDGE\n",
      "Failed to place in 4,1 //BACKTRACK: move to adj\n",
      "Failed to place in 4,2 //BACKTRACK: move to adj\n",
      "Failed to place in 4,3 //BACKTRACK: move to adj\n",
      "Failed to place in 4,4 //BACKTRACK: move to adj\n",
      "Failed to place in 3,2 //BACKTRACK:Level down\n",
      "Failed to place in 3,3 //BACKTRACK: move to adj\n",
      "Failed to place in 3,4 //BACKTRACK: move to adj\n",
      "Failed to place in 2,4 //BACKTRACK:Level down\n",
      "Failed to place in 1,1 //BACKTRACK:Level down\n",
      "placed in 1,2 //FORWARD EDGE\n",
      "Failed to place in 2,1 //BACKTRACK: move to adj\n",
      "Failed to place in 2,2 //BACKTRACK: move to adj\n",
      "Failed to place in 2,3 //BACKTRACK: move to adj\n",
      "placed in 2,4 //FORWARD EDGE\n",
      "placed in 3,1 //FORWARD EDGE\n",
      "Failed to place in 4,1 //BACKTRACK: move to adj\n",
      "Failed to place in 4,2 //BACKTRACK: move to adj\n",
      "placed in 4,3 //FORWARD EDGE\n",
      "Solution:\n",
      "0 1 0 0 \n",
      "0 0 0 1 \n",
      "1 0 0 0 \n",
      "0 0 1 0 \n"
     ]
    }
   ],
   "source": [
    "if(solution(board,0)):\n",
    "    print(\"Solution:\")\n",
    "    displayBoard()\n",
    "else:\n",
    "    print(\"No solution possible\")"
   ]
  }
 ],
 "metadata": {
  "kernelspec": {
   "display_name": "Python 3",
   "language": "python",
   "name": "python3"
  },
  "language_info": {
   "codemirror_mode": {
    "name": "ipython",
    "version": 3
   },
   "file_extension": ".py",
   "mimetype": "text/x-python",
   "name": "python",
   "nbconvert_exporter": "python",
   "pygments_lexer": "ipython3",
   "version": "3.8.5"
  }
 },
 "nbformat": 4,
 "nbformat_minor": 2
}
